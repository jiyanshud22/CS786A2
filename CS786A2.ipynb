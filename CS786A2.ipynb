{
  "nbformat": 4,
  "nbformat_minor": 0,
  "metadata": {
    "colab": {
      "provenance": [],
      "authorship_tag": "ABX9TyNR0ZknPhAMckBJPwwpWf26",
      "include_colab_link": true
    },
    "kernelspec": {
      "name": "python3",
      "display_name": "Python 3"
    },
    "language_info": {
      "name": "python"
    }
  },
  "cells": [
    {
      "cell_type": "markdown",
      "metadata": {
        "id": "view-in-github",
        "colab_type": "text"
      },
      "source": [
        "<a href=\"https://colab.research.google.com/github/jiyanshud22/CS786A2/blob/main/CS786A2.ipynb\" target=\"_parent\"><img src=\"https://colab.research.google.com/assets/colab-badge.svg\" alt=\"Open In Colab\"/></a>"
      ]
    },
    {
      "cell_type": "markdown",
      "source": [
        "# **CS786** Assignment"
      ],
      "metadata": {
        "id": "rY8uwinabt25"
      }
    },
    {
      "cell_type": "markdown",
      "source": [
        "Jiyanshu Dhaka 220481"
      ],
      "metadata": {
        "id": "9Eniy4AIbtzb"
      }
    },
    {
      "cell_type": "markdown",
      "source": [
        "# Q1. (40 points)\n",
        "Without using any third-party libraries or toolboxes, write code to\n",
        "\n",
        "### (a) take any three variable Boolean function as input\n"
      ],
      "metadata": {
        "id": "xYteaOXobtxI"
      }
    },
    {
      "cell_type": "code",
      "execution_count": null,
      "metadata": {
        "id": "clvL9QXgblER"
      },
      "outputs": [],
      "source": []
    },
    {
      "cell_type": "code",
      "source": [],
      "metadata": {
        "id": "faglk4P8nHWr"
      },
      "execution_count": null,
      "outputs": []
    },
    {
      "cell_type": "code",
      "source": [],
      "metadata": {
        "id": "rq73jUc8nHTY"
      },
      "execution_count": null,
      "outputs": []
    },
    {
      "cell_type": "code",
      "source": [],
      "metadata": {
        "id": "6N0XnzO4nHRr"
      },
      "execution_count": null,
      "outputs": []
    },
    {
      "cell_type": "markdown",
      "source": [
        "### (b) generate training examples for this Boolean function\n"
      ],
      "metadata": {
        "id": "BDCaxEcrnH9n"
      }
    },
    {
      "cell_type": "code",
      "source": [],
      "metadata": {
        "id": "x7v2AsGsnKng"
      },
      "execution_count": null,
      "outputs": []
    },
    {
      "cell_type": "code",
      "source": [],
      "metadata": {
        "id": "viF9CBFsnLeK"
      },
      "execution_count": null,
      "outputs": []
    },
    {
      "cell_type": "code",
      "source": [],
      "metadata": {
        "id": "-WKyvrgRnLNj"
      },
      "execution_count": null,
      "outputs": []
    },
    {
      "cell_type": "code",
      "source": [],
      "metadata": {
        "id": "2AySQWs2nLKF"
      },
      "execution_count": null,
      "outputs": []
    },
    {
      "cell_type": "markdown",
      "source": [
        "### (c) train a neural network to learn this Boolean function, and\n"
      ],
      "metadata": {
        "id": "kVLC2uxOnL3S"
      }
    },
    {
      "cell_type": "code",
      "source": [],
      "metadata": {
        "id": "Dxb3no2znOGN"
      },
      "execution_count": null,
      "outputs": []
    },
    {
      "cell_type": "code",
      "source": [],
      "metadata": {
        "id": "z1zrzNTUnOla"
      },
      "execution_count": null,
      "outputs": []
    },
    {
      "cell_type": "code",
      "source": [],
      "metadata": {
        "id": "oW3PxGbQnOnm"
      },
      "execution_count": null,
      "outputs": []
    },
    {
      "cell_type": "code",
      "source": [],
      "metadata": {
        "id": "p3PCEuTCnOrE"
      },
      "execution_count": null,
      "outputs": []
    },
    {
      "cell_type": "markdown",
      "source": [
        "### (d) verify that the function has been learned, for five separate Boolean functions"
      ],
      "metadata": {
        "id": "ycaltxevnO32"
      }
    },
    {
      "cell_type": "code",
      "source": [],
      "metadata": {
        "id": "ZQQrwEgNnPYx"
      },
      "execution_count": null,
      "outputs": []
    },
    {
      "cell_type": "code",
      "source": [],
      "metadata": {
        "id": "Z8fGaL_YnPbR"
      },
      "execution_count": null,
      "outputs": []
    },
    {
      "cell_type": "code",
      "source": [],
      "metadata": {
        "id": "5FVRQC4_nPeq"
      },
      "execution_count": null,
      "outputs": []
    },
    {
      "cell_type": "code",
      "source": [],
      "metadata": {
        "id": "n1k0IJLbnPoU"
      },
      "execution_count": null,
      "outputs": []
    }
  ]
}